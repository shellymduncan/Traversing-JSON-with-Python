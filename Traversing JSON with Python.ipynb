{
 "cells": [
  {
   "cell_type": "markdown",
   "id": "72303ade",
   "metadata": {},
   "source": [
    "# Traversing JSON with Python"
   ]
  },
  {
   "cell_type": "markdown",
   "id": "709a3415",
   "metadata": {},
   "source": [
    "# Import necessary libraries"
   ]
  },
  {
   "cell_type": "code",
   "execution_count": 25,
   "id": "f70f0e53",
   "metadata": {},
   "outputs": [],
   "source": [
    "# imports\n",
    "import json\n",
    "import pandas as pd"
   ]
  },
  {
   "cell_type": "code",
   "execution_count": 6,
   "id": "b023342d",
   "metadata": {},
   "outputs": [],
   "source": [
    "# load api credentials \n",
    "with open('/Users/shell/downloads/example_yelp_results.json') as f:  \n",
    "    json_file = json.load(f)"
   ]
  },
  {
   "cell_type": "markdown",
   "id": "95f780f8",
   "metadata": {},
   "source": [
    "# What is the top-level of the JSON data?"
   ]
  },
  {
   "cell_type": "code",
   "execution_count": 7,
   "id": "dc06b673",
   "metadata": {},
   "outputs": [
    {
     "data": {
      "text/plain": [
       "dict"
      ]
     },
     "execution_count": 7,
     "metadata": {},
     "output_type": "execute_result"
    }
   ],
   "source": [
    "# what is top level of jason\n",
    "type(json_file)"
   ]
  },
  {
   "cell_type": "code",
   "execution_count": 8,
   "id": "cfce6996",
   "metadata": {},
   "outputs": [
    {
     "data": {
      "text/plain": [
       "dict_keys(['businesses', 'total', 'region'])"
      ]
     },
     "execution_count": 8,
     "metadata": {},
     "output_type": "execute_result"
    }
   ],
   "source": [
    "# what are the keys?\n",
    "json_file.keys()"
   ]
  },
  {
   "cell_type": "markdown",
   "id": "cc1cf192",
   "metadata": {},
   "source": [
    "# What is stored in the second-level?\n",
    "* We have three keys to explore. We will start by exploring region."
   ]
  },
  {
   "cell_type": "markdown",
   "id": "f571b560",
   "metadata": {},
   "source": [
    "# Region\n"
   ]
  },
  {
   "cell_type": "code",
   "execution_count": 18,
   "id": "6e6a3142",
   "metadata": {},
   "outputs": [
    {
     "data": {
      "text/plain": [
       "dict"
      ]
     },
     "execution_count": 18,
     "metadata": {},
     "output_type": "execute_result"
    }
   ],
   "source": [
    "# what type is region?\n",
    "type(json_file['region'])"
   ]
  },
  {
   "cell_type": "code",
   "execution_count": 11,
   "id": "2d1e8257",
   "metadata": {},
   "outputs": [
    {
     "data": {
      "text/plain": [
       "dict_keys(['center'])"
      ]
     },
     "execution_count": 11,
     "metadata": {},
     "output_type": "execute_result"
    }
   ],
   "source": [
    "# what keys are in the region?\n",
    "json_file['region'].keys()"
   ]
  },
  {
   "cell_type": "code",
   "execution_count": 12,
   "id": "7439fbaf",
   "metadata": {},
   "outputs": [
    {
     "data": {
      "text/plain": [
       "dict"
      ]
     },
     "execution_count": 12,
     "metadata": {},
     "output_type": "execute_result"
    }
   ],
   "source": [
    "# what type is the center?\n",
    "type(json_file['region']['center'])"
   ]
  },
  {
   "cell_type": "code",
   "execution_count": 13,
   "id": "ccd2f8b9",
   "metadata": {},
   "outputs": [
    {
     "data": {
      "text/plain": [
       "dict_keys(['longitude', 'latitude'])"
      ]
     },
     "execution_count": 13,
     "metadata": {},
     "output_type": "execute_result"
    }
   ],
   "source": [
    "# what are the keys in the center?\n",
    "json_file['region']['center'].keys()"
   ]
  },
  {
   "cell_type": "code",
   "execution_count": 14,
   "id": "fa7ade43",
   "metadata": {},
   "outputs": [
    {
     "data": {
      "text/plain": [
       "{'longitude': -76.607666015625, 'latitude': 39.29617825404647}"
      ]
     },
     "execution_count": 14,
     "metadata": {},
     "output_type": "execute_result"
    }
   ],
   "source": [
    "# visulaize the whole center dic, since lat and long are likely single values\n",
    "json_file['region']['center']"
   ]
  },
  {
   "cell_type": "markdown",
   "id": "63a7b6ff",
   "metadata": {},
   "source": [
    "* It looks like we have the coordinates for the center of the region that Yelp searched through."
   ]
  },
  {
   "cell_type": "markdown",
   "id": "104d5e27",
   "metadata": {},
   "source": [
    "# Total"
   ]
  },
  {
   "cell_type": "markdown",
   "id": "636d2ca6",
   "metadata": {},
   "source": [
    "* Now we will explore \"total\""
   ]
  },
  {
   "cell_type": "code",
   "execution_count": 16,
   "id": "f7554681",
   "metadata": {},
   "outputs": [
    {
     "data": {
      "text/plain": [
       "int"
      ]
     },
     "execution_count": 16,
     "metadata": {},
     "output_type": "execute_result"
    }
   ],
   "source": [
    "# what is stored under the \"total\" key?\n",
    "type(json_file['total'])"
   ]
  },
  {
   "cell_type": "code",
   "execution_count": 17,
   "id": "1692a9b6",
   "metadata": {},
   "outputs": [
    {
     "data": {
      "text/plain": [
       "435"
      ]
     },
     "execution_count": 17,
     "metadata": {},
     "output_type": "execute_result"
    }
   ],
   "source": [
    "# what is the value?\n",
    "json_file['total']"
   ]
  },
  {
   "cell_type": "markdown",
   "id": "2574ee27",
   "metadata": {},
   "source": [
    "* It looks like there were 435 total results for this Yelp search."
   ]
  },
  {
   "cell_type": "markdown",
   "id": "0e77ae7f",
   "metadata": {},
   "source": [
    "# Businesses\n",
    "* And finally, we will explore \"businesses\""
   ]
  },
  {
   "cell_type": "code",
   "execution_count": 19,
   "id": "08aad427",
   "metadata": {},
   "outputs": [
    {
     "data": {
      "text/plain": [
       "list"
      ]
     },
     "execution_count": 19,
     "metadata": {},
     "output_type": "execute_result"
    }
   ],
   "source": [
    "# what is in the business key?\n",
    "type(json_file['businesses'])"
   ]
  },
  {
   "cell_type": "code",
   "execution_count": 20,
   "id": "1a1a1f13",
   "metadata": {},
   "outputs": [
    {
     "data": {
      "text/plain": [
       "20"
      ]
     },
     "execution_count": 20,
     "metadata": {},
     "output_type": "execute_result"
    }
   ],
   "source": [
    "# how long is businesses?\n",
    "len(json_file['businesses'])"
   ]
  },
  {
   "cell_type": "markdown",
   "id": "84a13649",
   "metadata": {},
   "source": [
    "* It looks like there are 20 businesses stored in the list."
   ]
  },
  {
   "cell_type": "code",
   "execution_count": 22,
   "id": "64f323c8",
   "metadata": {},
   "outputs": [
    {
     "data": {
      "text/plain": [
       "{'id': 'D9A33FM394q99o4QtK5YwA',\n",
       " 'alias': 'faidleys-seafood-baltimore-3',\n",
       " 'name': 'Faidleys Seafood',\n",
       " 'image_url': 'https://s3-media3.fl.yelpcdn.com/bphoto/OTjVDCVS7pGopH6GZcfjBA/o.jpg',\n",
       " 'is_closed': False,\n",
       " 'url': 'https://www.yelp.com/biz/faidleys-seafood-baltimore-3?adjust_creative=KJtcufKUS887p24u6rjVIQ&utm_campaign=yelp_api_v3&utm_medium=api_v3_business_search&utm_source=KJtcufKUS887p24u6rjVIQ',\n",
       " 'review_count': 1184,\n",
       " 'categories': [{'alias': 'seafood', 'title': 'Seafood'},\n",
       "  {'alias': 'beerbar', 'title': 'Beer Bar'}],\n",
       " 'rating': 4.0,\n",
       " 'coordinates': {'latitude': 39.291696, 'longitude': -76.62224},\n",
       " 'transactions': ['delivery'],\n",
       " 'price': '$$',\n",
       " 'location': {'address1': '203 N Paca St',\n",
       "  'address2': '',\n",
       "  'address3': '',\n",
       "  'city': 'Baltimore',\n",
       "  'zip_code': '21201',\n",
       "  'country': 'US',\n",
       "  'state': 'MD',\n",
       "  'display_address': ['203 N Paca St', 'Baltimore, MD 21201']},\n",
       " 'phone': '+14107274898',\n",
       " 'display_phone': '(410) 727-4898',\n",
       " 'distance': 1349.560720156645}"
      ]
     },
     "execution_count": 22,
     "metadata": {},
     "output_type": "execute_result"
    }
   ],
   "source": [
    "# what does the first entry of the business look like?\n",
    "json_file['businesses'][0]"
   ]
  },
  {
   "cell_type": "markdown",
   "id": "1f0bff1f",
   "metadata": {},
   "source": [
    "* Is it a dictionary? What are the keys?\n"
   ]
  },
  {
   "cell_type": "code",
   "execution_count": 23,
   "id": "751b62a5",
   "metadata": {},
   "outputs": [
    {
     "data": {
      "text/plain": [
       "dict_keys(['id', 'alias', 'name', 'image_url', 'is_closed', 'url', 'review_count', 'categories', 'rating', 'coordinates', 'transactions', 'price', 'location', 'phone', 'display_phone', 'distance'])"
      ]
     },
     "execution_count": 23,
     "metadata": {},
     "output_type": "execute_result"
    }
   ],
   "source": [
    "# what are the keys of the first entry in business?\n",
    "json_file['businesses'][0].keys()"
   ]
  },
  {
   "cell_type": "code",
   "execution_count": 24,
   "id": "09e96209",
   "metadata": {},
   "outputs": [
    {
     "data": {
      "text/plain": [
       "dict_keys(['id', 'alias', 'name', 'image_url', 'is_closed', 'url', 'review_count', 'categories', 'rating', 'coordinates', 'transactions', 'price', 'location', 'phone', 'display_phone', 'distance'])"
      ]
     },
     "execution_count": 24,
     "metadata": {},
     "output_type": "execute_result"
    }
   ],
   "source": [
    "# what are the keys of the NEXT entry in businesses? Do they match the first?\n",
    "json_file['businesses'][1].keys()"
   ]
  },
  {
   "cell_type": "markdown",
   "id": "917866f0",
   "metadata": {},
   "source": [
    "# Identifying \"records\"\n",
    "* There is a name for particular type of json format in which we have a list that contains dictionaries with matching keys for each item.\n",
    "\n",
    "* We call these \"records\".\n",
    "\n",
    "    * It looks like the \"businesses\" key in our json data is a list of records.\n",
    "    \n",
    "* Records can be turned into DataFrames really easily for easier inspection!"
   ]
  },
  {
   "cell_type": "code",
   "execution_count": 26,
   "id": "e30b9fca",
   "metadata": {},
   "outputs": [
    {
     "data": {
      "text/html": [
       "<div>\n",
       "<style scoped>\n",
       "    .dataframe tbody tr th:only-of-type {\n",
       "        vertical-align: middle;\n",
       "    }\n",
       "\n",
       "    .dataframe tbody tr th {\n",
       "        vertical-align: top;\n",
       "    }\n",
       "\n",
       "    .dataframe thead th {\n",
       "        text-align: right;\n",
       "    }\n",
       "</style>\n",
       "<table border=\"1\" class=\"dataframe\">\n",
       "  <thead>\n",
       "    <tr style=\"text-align: right;\">\n",
       "      <th></th>\n",
       "      <th>id</th>\n",
       "      <th>alias</th>\n",
       "      <th>name</th>\n",
       "      <th>image_url</th>\n",
       "      <th>is_closed</th>\n",
       "      <th>url</th>\n",
       "      <th>review_count</th>\n",
       "      <th>categories</th>\n",
       "      <th>rating</th>\n",
       "      <th>coordinates</th>\n",
       "      <th>transactions</th>\n",
       "      <th>price</th>\n",
       "      <th>location</th>\n",
       "      <th>phone</th>\n",
       "      <th>display_phone</th>\n",
       "      <th>distance</th>\n",
       "    </tr>\n",
       "  </thead>\n",
       "  <tbody>\n",
       "    <tr>\n",
       "      <th>0</th>\n",
       "      <td>D9A33FM394q99o4QtK5YwA</td>\n",
       "      <td>faidleys-seafood-baltimore-3</td>\n",
       "      <td>Faidleys Seafood</td>\n",
       "      <td>https://s3-media3.fl.yelpcdn.com/bphoto/OTjVDC...</td>\n",
       "      <td>False</td>\n",
       "      <td>https://www.yelp.com/biz/faidleys-seafood-balt...</td>\n",
       "      <td>1184</td>\n",
       "      <td>[{'alias': 'seafood', 'title': 'Seafood'}, {'a...</td>\n",
       "      <td>4.0</td>\n",
       "      <td>{'latitude': 39.291696, 'longitude': -76.62224}</td>\n",
       "      <td>[delivery]</td>\n",
       "      <td>$$</td>\n",
       "      <td>{'address1': '203 N Paca St', 'address2': '', ...</td>\n",
       "      <td>+14107274898</td>\n",
       "      <td>(410) 727-4898</td>\n",
       "      <td>1349.560720</td>\n",
       "    </tr>\n",
       "    <tr>\n",
       "      <th>1</th>\n",
       "      <td>u65W69AhbjUlvJJBkEhGNQ</td>\n",
       "      <td>miss-shirleys-cafe-baltimore-9</td>\n",
       "      <td>Miss Shirley's Cafe</td>\n",
       "      <td>https://s3-media4.fl.yelpcdn.com/bphoto/9FsOyV...</td>\n",
       "      <td>False</td>\n",
       "      <td>https://www.yelp.com/biz/miss-shirleys-cafe-ba...</td>\n",
       "      <td>2919</td>\n",
       "      <td>[{'alias': 'breakfast_brunch', 'title': 'Break...</td>\n",
       "      <td>4.0</td>\n",
       "      <td>{'latitude': 39.2870995, 'longitude': -76.6053...</td>\n",
       "      <td>[delivery, pickup]</td>\n",
       "      <td>$$</td>\n",
       "      <td>{'address1': '750 E Pratt St', 'address2': '',...</td>\n",
       "      <td>+14105285373</td>\n",
       "      <td>(410) 528-5373</td>\n",
       "      <td>1028.736468</td>\n",
       "    </tr>\n",
       "    <tr>\n",
       "      <th>2</th>\n",
       "      <td>ieS_5zqxDHcWMCm8BKUYbg</td>\n",
       "      <td>thames-street-oyster-house-baltimore</td>\n",
       "      <td>Thames Street Oyster House</td>\n",
       "      <td>https://s3-media1.fl.yelpcdn.com/bphoto/9hGjo5...</td>\n",
       "      <td>False</td>\n",
       "      <td>https://www.yelp.com/biz/thames-street-oyster-...</td>\n",
       "      <td>2729</td>\n",
       "      <td>[{'alias': 'seafood', 'title': 'Seafood'}, {'a...</td>\n",
       "      <td>4.5</td>\n",
       "      <td>{'latitude': 39.28214, 'longitude': -76.59162}</td>\n",
       "      <td>[delivery]</td>\n",
       "      <td>$$$</td>\n",
       "      <td>{'address1': '1728 Thames St', 'address2': '',...</td>\n",
       "      <td>+14434497726</td>\n",
       "      <td>(443) 449-7726</td>\n",
       "      <td>2090.712792</td>\n",
       "    </tr>\n",
       "    <tr>\n",
       "      <th>3</th>\n",
       "      <td>6am8TZAFnvND52MOz-Yctg</td>\n",
       "      <td>mamas-on-the-half-shell-baltimore</td>\n",
       "      <td>Mama's On The Half Shell</td>\n",
       "      <td>https://s3-media2.fl.yelpcdn.com/bphoto/HWY8OF...</td>\n",
       "      <td>False</td>\n",
       "      <td>https://www.yelp.com/biz/mamas-on-the-half-she...</td>\n",
       "      <td>1279</td>\n",
       "      <td>[{'alias': 'bars', 'title': 'Bars'}, {'alias':...</td>\n",
       "      <td>4.0</td>\n",
       "      <td>{'latitude': 39.27986, 'longitude': -76.5752399}</td>\n",
       "      <td>[delivery, pickup]</td>\n",
       "      <td>$$</td>\n",
       "      <td>{'address1': '2901 Odonnell St', 'address2': '...</td>\n",
       "      <td>+14102763160</td>\n",
       "      <td>(410) 276-3160</td>\n",
       "      <td>3328.825798</td>\n",
       "    </tr>\n",
       "    <tr>\n",
       "      <th>4</th>\n",
       "      <td>ISn7WyGQaFpsVSRSh0NSqg</td>\n",
       "      <td>sal-and-sons-baltimore</td>\n",
       "      <td>Sal and Sons</td>\n",
       "      <td>https://s3-media3.fl.yelpcdn.com/bphoto/LmVL4j...</td>\n",
       "      <td>False</td>\n",
       "      <td>https://www.yelp.com/biz/sal-and-sons-baltimor...</td>\n",
       "      <td>153</td>\n",
       "      <td>[{'alias': 'seafood', 'title': 'Seafood'}, {'a...</td>\n",
       "      <td>4.5</td>\n",
       "      <td>{'latitude': 39.284, 'longitude': -76.59337}</td>\n",
       "      <td>[delivery]</td>\n",
       "      <td>$</td>\n",
       "      <td>{'address1': '1640 Aliceanna St', 'address2': ...</td>\n",
       "      <td>+14106751466</td>\n",
       "      <td>(410) 675-1466</td>\n",
       "      <td>1817.406978</td>\n",
       "    </tr>\n",
       "  </tbody>\n",
       "</table>\n",
       "</div>"
      ],
      "text/plain": [
       "                       id                                 alias  \\\n",
       "0  D9A33FM394q99o4QtK5YwA          faidleys-seafood-baltimore-3   \n",
       "1  u65W69AhbjUlvJJBkEhGNQ        miss-shirleys-cafe-baltimore-9   \n",
       "2  ieS_5zqxDHcWMCm8BKUYbg  thames-street-oyster-house-baltimore   \n",
       "3  6am8TZAFnvND52MOz-Yctg     mamas-on-the-half-shell-baltimore   \n",
       "4  ISn7WyGQaFpsVSRSh0NSqg                sal-and-sons-baltimore   \n",
       "\n",
       "                         name  \\\n",
       "0            Faidleys Seafood   \n",
       "1         Miss Shirley's Cafe   \n",
       "2  Thames Street Oyster House   \n",
       "3    Mama's On The Half Shell   \n",
       "4                Sal and Sons   \n",
       "\n",
       "                                           image_url  is_closed  \\\n",
       "0  https://s3-media3.fl.yelpcdn.com/bphoto/OTjVDC...      False   \n",
       "1  https://s3-media4.fl.yelpcdn.com/bphoto/9FsOyV...      False   \n",
       "2  https://s3-media1.fl.yelpcdn.com/bphoto/9hGjo5...      False   \n",
       "3  https://s3-media2.fl.yelpcdn.com/bphoto/HWY8OF...      False   \n",
       "4  https://s3-media3.fl.yelpcdn.com/bphoto/LmVL4j...      False   \n",
       "\n",
       "                                                 url  review_count  \\\n",
       "0  https://www.yelp.com/biz/faidleys-seafood-balt...          1184   \n",
       "1  https://www.yelp.com/biz/miss-shirleys-cafe-ba...          2919   \n",
       "2  https://www.yelp.com/biz/thames-street-oyster-...          2729   \n",
       "3  https://www.yelp.com/biz/mamas-on-the-half-she...          1279   \n",
       "4  https://www.yelp.com/biz/sal-and-sons-baltimor...           153   \n",
       "\n",
       "                                          categories  rating  \\\n",
       "0  [{'alias': 'seafood', 'title': 'Seafood'}, {'a...     4.0   \n",
       "1  [{'alias': 'breakfast_brunch', 'title': 'Break...     4.0   \n",
       "2  [{'alias': 'seafood', 'title': 'Seafood'}, {'a...     4.5   \n",
       "3  [{'alias': 'bars', 'title': 'Bars'}, {'alias':...     4.0   \n",
       "4  [{'alias': 'seafood', 'title': 'Seafood'}, {'a...     4.5   \n",
       "\n",
       "                                         coordinates        transactions  \\\n",
       "0    {'latitude': 39.291696, 'longitude': -76.62224}          [delivery]   \n",
       "1  {'latitude': 39.2870995, 'longitude': -76.6053...  [delivery, pickup]   \n",
       "2     {'latitude': 39.28214, 'longitude': -76.59162}          [delivery]   \n",
       "3   {'latitude': 39.27986, 'longitude': -76.5752399}  [delivery, pickup]   \n",
       "4       {'latitude': 39.284, 'longitude': -76.59337}          [delivery]   \n",
       "\n",
       "  price                                           location         phone  \\\n",
       "0    $$  {'address1': '203 N Paca St', 'address2': '', ...  +14107274898   \n",
       "1    $$  {'address1': '750 E Pratt St', 'address2': '',...  +14105285373   \n",
       "2   $$$  {'address1': '1728 Thames St', 'address2': '',...  +14434497726   \n",
       "3    $$  {'address1': '2901 Odonnell St', 'address2': '...  +14102763160   \n",
       "4     $  {'address1': '1640 Aliceanna St', 'address2': ...  +14106751466   \n",
       "\n",
       "    display_phone     distance  \n",
       "0  (410) 727-4898  1349.560720  \n",
       "1  (410) 528-5373  1028.736468  \n",
       "2  (443) 449-7726  2090.712792  \n",
       "3  (410) 276-3160  3328.825798  \n",
       "4  (410) 675-1466  1817.406978  "
      ]
     },
     "execution_count": 26,
     "metadata": {},
     "output_type": "execute_result"
    }
   ],
   "source": [
    "df_businesses = pd.DataFrame(json_file['businesses'])\n",
    "df_businesses.head()"
   ]
  },
  {
   "cell_type": "markdown",
   "id": "e9504104",
   "metadata": {},
   "source": [
    "* Notice how cleanly the list of dictionaries was converted into a DataFrame!\n",
    "\n",
    "* Even if we didn't save this dataframe as a variable, temporarily converting lists in JSON files to DataFrames can be very helpful for sifting through the file contents!\n",
    "* Now, the DataFrame definitely is not perfectly formatted. Take note of the \"categories\", \"coordinates\", and \"location\" columns."
   ]
  },
  {
   "cell_type": "code",
   "execution_count": 27,
   "id": "89a9f80c",
   "metadata": {},
   "outputs": [
    {
     "data": {
      "text/html": [
       "<div>\n",
       "<style scoped>\n",
       "    .dataframe tbody tr th:only-of-type {\n",
       "        vertical-align: middle;\n",
       "    }\n",
       "\n",
       "    .dataframe tbody tr th {\n",
       "        vertical-align: top;\n",
       "    }\n",
       "\n",
       "    .dataframe thead th {\n",
       "        text-align: right;\n",
       "    }\n",
       "</style>\n",
       "<table border=\"1\" class=\"dataframe\">\n",
       "  <thead>\n",
       "    <tr style=\"text-align: right;\">\n",
       "      <th></th>\n",
       "      <th>categories</th>\n",
       "      <th>coordinates</th>\n",
       "      <th>location</th>\n",
       "    </tr>\n",
       "  </thead>\n",
       "  <tbody>\n",
       "    <tr>\n",
       "      <th>0</th>\n",
       "      <td>[{'alias': 'seafood', 'title': 'Seafood'}, {'a...</td>\n",
       "      <td>{'latitude': 39.291696, 'longitude': -76.62224}</td>\n",
       "      <td>{'address1': '203 N Paca St', 'address2': '', ...</td>\n",
       "    </tr>\n",
       "    <tr>\n",
       "      <th>1</th>\n",
       "      <td>[{'alias': 'breakfast_brunch', 'title': 'Break...</td>\n",
       "      <td>{'latitude': 39.2870995, 'longitude': -76.6053...</td>\n",
       "      <td>{'address1': '750 E Pratt St', 'address2': '',...</td>\n",
       "    </tr>\n",
       "    <tr>\n",
       "      <th>2</th>\n",
       "      <td>[{'alias': 'seafood', 'title': 'Seafood'}, {'a...</td>\n",
       "      <td>{'latitude': 39.28214, 'longitude': -76.59162}</td>\n",
       "      <td>{'address1': '1728 Thames St', 'address2': '',...</td>\n",
       "    </tr>\n",
       "  </tbody>\n",
       "</table>\n",
       "</div>"
      ],
      "text/plain": [
       "                                          categories  \\\n",
       "0  [{'alias': 'seafood', 'title': 'Seafood'}, {'a...   \n",
       "1  [{'alias': 'breakfast_brunch', 'title': 'Break...   \n",
       "2  [{'alias': 'seafood', 'title': 'Seafood'}, {'a...   \n",
       "\n",
       "                                         coordinates  \\\n",
       "0    {'latitude': 39.291696, 'longitude': -76.62224}   \n",
       "1  {'latitude': 39.2870995, 'longitude': -76.6053...   \n",
       "2     {'latitude': 39.28214, 'longitude': -76.59162}   \n",
       "\n",
       "                                            location  \n",
       "0  {'address1': '203 N Paca St', 'address2': '', ...  \n",
       "1  {'address1': '750 E Pratt St', 'address2': '',...  \n",
       "2  {'address1': '1728 Thames St', 'address2': '',...  "
      ]
     },
     "execution_count": 27,
     "metadata": {},
     "output_type": "execute_result"
    }
   ],
   "source": [
    "df_businesses[['categories', 'coordinates', 'location']].head(3)"
   ]
  },
  {
   "cell_type": "markdown",
   "id": "bbb3e10c",
   "metadata": {},
   "source": [
    "* These cells actually contain more than 1 piece of information. They actually contain dictionaries.\n",
    "\n",
    "* While making our records into a DataFrame helped us organize and digest the business data, it is not a perfect solution and we may need to do additional cleaning on the columns that are filled with dictionaries or lists.\n",
    "\n",
    "* We will discuss how to deal with scenarios like this in an upcoming lesson on Advanced Transformations with Pandas."
   ]
  },
  {
   "cell_type": "markdown",
   "id": "dd7097f5",
   "metadata": {},
   "source": [
    "# Reviewing the JSON Schema\n",
    "* We have a dictionary of Yelp query results.\n",
    "* The top level contains:\n",
    "    * The Total # of businesses that matched the query.\n",
    "    * The region that was searched.\n",
    "    * A list of records for the businesses that matched the criteria."
   ]
  },
  {
   "cell_type": "code",
   "execution_count": null,
   "id": "573843b7",
   "metadata": {},
   "outputs": [],
   "source": []
  }
 ],
 "metadata": {
  "kernelspec": {
   "display_name": "Python (dojo-env)",
   "language": "python",
   "name": "dojo-env"
  },
  "language_info": {
   "codemirror_mode": {
    "name": "ipython",
    "version": 3
   },
   "file_extension": ".py",
   "mimetype": "text/x-python",
   "name": "python",
   "nbconvert_exporter": "python",
   "pygments_lexer": "ipython3",
   "version": "3.8.13"
  },
  "toc": {
   "base_numbering": 1,
   "nav_menu": {},
   "number_sections": false,
   "sideBar": true,
   "skip_h1_title": false,
   "title_cell": "Table of Contents",
   "title_sidebar": "Contents",
   "toc_cell": false,
   "toc_position": {},
   "toc_section_display": true,
   "toc_window_display": false
  }
 },
 "nbformat": 4,
 "nbformat_minor": 5
}
